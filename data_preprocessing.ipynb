{
 "cells": [
  {
   "metadata": {
    "ExecuteTime": {
     "end_time": "2024-12-25T14:57:55.751705Z",
     "start_time": "2024-12-25T14:57:55.521235Z"
    }
   },
   "cell_type": "code",
   "source": [
    "import json\n",
    "import pandas as pd\n",
    "import numpy as np"
   ],
   "id": "f41ae470044d6438",
   "outputs": [],
   "execution_count": 1
  },
  {
   "metadata": {
    "ExecuteTime": {
     "end_time": "2024-12-25T14:57:55.762425Z",
     "start_time": "2024-12-25T14:57:55.754369Z"
    }
   },
   "cell_type": "code",
   "source": [
    "with open('data/nl2bash-data.json', 'r') as f:\n",
    "    data = json.load(f)"
   ],
   "id": "1643b5d2b6d1b8d6",
   "outputs": [],
   "execution_count": 2
  },
  {
   "metadata": {
    "ExecuteTime": {
     "end_time": "2024-12-25T14:57:55.835517Z",
     "start_time": "2024-12-25T14:57:55.829667Z"
    }
   },
   "cell_type": "code",
   "source": "df = pd.DataFrame.from_dict(data, orient='index')",
   "id": "9eac01f7c61b0130",
   "outputs": [],
   "execution_count": 3
  },
  {
   "metadata": {
    "ExecuteTime": {
     "end_time": "2024-12-25T14:57:55.849641Z",
     "start_time": "2024-12-25T14:57:55.841722Z"
    }
   },
   "cell_type": "code",
   "source": "df",
   "id": "2efac479aa973624",
   "outputs": [
    {
     "data": {
      "text/plain": [
       "                                              invocation  \\\n",
       "1      Copy loadable kernel module \"mymodule.ko\" to t...   \n",
       "2      Display all lines containing \"IP_MROUTE\" in th...   \n",
       "3      Display current running kernel's compile-time ...   \n",
       "4      Find all loadable modules for current kernel, ...   \n",
       "5      Look for any instance of \"HIGHMEM\" in the curr...   \n",
       "...                                                  ...   \n",
       "10343  using exec in find command to dispaly the sear...   \n",
       "10344  verbosely create intermediate directoriy tmp a...   \n",
       "10345                       view the manual page of find   \n",
       "10346              wait 2 seconds and then print \"hello\"   \n",
       "10347  when using vi-insert keymap bind command \"\\C-v...   \n",
       "\n",
       "                                                     cmd  \n",
       "1      sudo cp mymodule.ko /lib/modules/$(uname -r)/k...  \n",
       "2           cat /boot/config-`uname -r` | grep IP_MROUTE  \n",
       "3                            cat /boot/config-`uname -r`  \n",
       "4           find /lib/modules/`uname -r` -regex .*perf.*  \n",
       "5                 grep “HIGHMEM” /boot/config-`uname -r`  \n",
       "...                                                  ...  \n",
       "10343           find . ... -exec cat {} \\; -exec echo \\;  \n",
       "10344                           mkdir -pv /tmp/boostinst  \n",
       "10345                                           man find  \n",
       "10346                           echo \"hello `sleep 2 &`\"  \n",
       "10347                bind -m vi-insert '\"{\" \"\\C-v{}\\ei\"'  \n",
       "\n",
       "[10347 rows x 2 columns]"
      ],
      "text/html": [
       "<div>\n",
       "<style scoped>\n",
       "    .dataframe tbody tr th:only-of-type {\n",
       "        vertical-align: middle;\n",
       "    }\n",
       "\n",
       "    .dataframe tbody tr th {\n",
       "        vertical-align: top;\n",
       "    }\n",
       "\n",
       "    .dataframe thead th {\n",
       "        text-align: right;\n",
       "    }\n",
       "</style>\n",
       "<table border=\"1\" class=\"dataframe\">\n",
       "  <thead>\n",
       "    <tr style=\"text-align: right;\">\n",
       "      <th></th>\n",
       "      <th>invocation</th>\n",
       "      <th>cmd</th>\n",
       "    </tr>\n",
       "  </thead>\n",
       "  <tbody>\n",
       "    <tr>\n",
       "      <th>1</th>\n",
       "      <td>Copy loadable kernel module \"mymodule.ko\" to t...</td>\n",
       "      <td>sudo cp mymodule.ko /lib/modules/$(uname -r)/k...</td>\n",
       "    </tr>\n",
       "    <tr>\n",
       "      <th>2</th>\n",
       "      <td>Display all lines containing \"IP_MROUTE\" in th...</td>\n",
       "      <td>cat /boot/config-`uname -r` | grep IP_MROUTE</td>\n",
       "    </tr>\n",
       "    <tr>\n",
       "      <th>3</th>\n",
       "      <td>Display current running kernel's compile-time ...</td>\n",
       "      <td>cat /boot/config-`uname -r`</td>\n",
       "    </tr>\n",
       "    <tr>\n",
       "      <th>4</th>\n",
       "      <td>Find all loadable modules for current kernel, ...</td>\n",
       "      <td>find /lib/modules/`uname -r` -regex .*perf.*</td>\n",
       "    </tr>\n",
       "    <tr>\n",
       "      <th>5</th>\n",
       "      <td>Look for any instance of \"HIGHMEM\" in the curr...</td>\n",
       "      <td>grep “HIGHMEM” /boot/config-`uname -r`</td>\n",
       "    </tr>\n",
       "    <tr>\n",
       "      <th>...</th>\n",
       "      <td>...</td>\n",
       "      <td>...</td>\n",
       "    </tr>\n",
       "    <tr>\n",
       "      <th>10343</th>\n",
       "      <td>using exec in find command to dispaly the sear...</td>\n",
       "      <td>find . ... -exec cat {} \\; -exec echo \\;</td>\n",
       "    </tr>\n",
       "    <tr>\n",
       "      <th>10344</th>\n",
       "      <td>verbosely create intermediate directoriy tmp a...</td>\n",
       "      <td>mkdir -pv /tmp/boostinst</td>\n",
       "    </tr>\n",
       "    <tr>\n",
       "      <th>10345</th>\n",
       "      <td>view the manual page of find</td>\n",
       "      <td>man find</td>\n",
       "    </tr>\n",
       "    <tr>\n",
       "      <th>10346</th>\n",
       "      <td>wait 2 seconds and then print \"hello\"</td>\n",
       "      <td>echo \"hello `sleep 2 &amp;`\"</td>\n",
       "    </tr>\n",
       "    <tr>\n",
       "      <th>10347</th>\n",
       "      <td>when using vi-insert keymap bind command \"\\C-v...</td>\n",
       "      <td>bind -m vi-insert '\"{\" \"\\C-v{}\\ei\"'</td>\n",
       "    </tr>\n",
       "  </tbody>\n",
       "</table>\n",
       "<p>10347 rows × 2 columns</p>\n",
       "</div>"
      ]
     },
     "execution_count": 4,
     "metadata": {},
     "output_type": "execute_result"
    }
   ],
   "execution_count": 4
  },
  {
   "metadata": {
    "ExecuteTime": {
     "end_time": "2024-12-25T14:57:56.047205Z",
     "start_time": "2024-12-25T14:57:55.872611Z"
    }
   },
   "cell_type": "code",
   "source": [
    "df['command'] = df['cmd'].str.split().str[0]\n",
    "\n",
    "distribution = df['command'].value_counts()\n",
    "\n",
    "target_samples = 2000\n",
    "num_unique_commands = len(distribution)\n",
    "avg_samples_per_command = target_samples // num_unique_commands\n",
    "\n",
    "balanced_data = []\n",
    "\n",
    "for command, count in distribution.items():\n",
    "    command_data = df[df['command'] == command]\n",
    "\n",
    "    if count > avg_samples_per_command:\n",
    "        command_data = command_data.sample(n=avg_samples_per_command, random_state=42)\n",
    "    elif count < avg_samples_per_command:\n",
    "        if count == 1:\n",
    "            command_data = command_data\n",
    "        else:\n",
    "            command_data = command_data.sample(n=avg_samples_per_command, replace=True, random_state=42)\n",
    "\n",
    "    balanced_data.append(command_data)\n",
    "\n",
    "balanced_df = pd.concat(balanced_data, ignore_index=True)\n",
    "\n",
    "print(f\"Total samples in the result: {len(balanced_df)}\")\n",
    "print(balanced_df)\n",
    "\n",
    "balanced_distribution = balanced_df['command'].value_counts()\n",
    "print(balanced_distribution)"
   ],
   "id": "2a51ffebb7de5785",
   "outputs": [
    {
     "name": "stdout",
     "output_type": "stream",
     "text": [
      "Total samples in the result: 831\n",
      "                                            invocation  \\\n",
      "0    Find all files in the current directory tree w...   \n",
      "1    Search for first match of the regex 're' in al...   \n",
      "2    Search the current directory tree for files an...   \n",
      "3    list any files modified since /bin/sh was last...   \n",
      "4    Remove filetype suffix (last dot and following...   \n",
      "..                                                 ...   \n",
      "826  Prints real path of the folder containing $0 f...   \n",
      "827  Append the current date in '%Y%m%d_%H%M' forma...   \n",
      "828  Records the number of occurences of 'needle' i...   \n",
      "829  Recursively finds all 'STATUS.txt' files conta...   \n",
      "830  Save a line of 100 random characters either \"....   \n",
      "\n",
      "                                                   cmd             command  \n",
      "0                find . -size +1M -exec mv {} files \\+                find  \n",
      "1    find . -name '*.coffee' -exec awk '/re/ {print...                find  \n",
      "2                             find .  -perm 775 -print                find  \n",
      "3                                find . -newer /bin/sh                find  \n",
      "4        echo $filename | rev | cut -f 2- -d '.' | rev                echo  \n",
      "..                                                 ...                 ...  \n",
      "826                     $(readlink -f $(dirname \"$0\"))          $(readlink  \n",
      "827    LOGNAME=\"`basename \"$0\"`_`date \"+%Y%m%d_%H%M\"`\"  LOGNAME=\"`basename  \n",
      "828  inarray=$(echo ${haystack[@]} | grep -o \"needl...      inarray=$(echo  \n",
      "829  fgrep --include='STATUS.txt' -rl 'OPEN' | xarg...               fgrep  \n",
      "830  foo=$(cat /dev/urandom | tr -dc '. ' | fold -w...           foo=$(cat  \n",
      "\n",
      "[831 rows x 3 columns]\n",
      "command\n",
      "find                   4\n",
      "b=`echo                4\n",
      "shred                  4\n",
      "more                   4\n",
      "false                  4\n",
      "                      ..\n",
      "filename=\"`basename    1\n",
      "PS4='+                 1\n",
      "size=`cat              1\n",
      "do=$(cal               1\n",
      "foo=$(cat              1\n",
      "Name: count, Length: 408, dtype: int64\n"
     ]
    }
   ],
   "execution_count": 5
  },
  {
   "metadata": {
    "ExecuteTime": {
     "end_time": "2024-12-25T14:57:56.138297Z",
     "start_time": "2024-12-25T14:57:56.136791Z"
    }
   },
   "cell_type": "code",
   "source": [
    "test_data = []\n",
    "train_data = []"
   ],
   "id": "392a0175816cb2d1",
   "outputs": [],
   "execution_count": 8
  },
  {
   "metadata": {
    "ExecuteTime": {
     "end_time": "2024-12-25T14:57:56.324464Z",
     "start_time": "2024-12-25T14:57:56.175914Z"
    }
   },
   "cell_type": "code",
   "source": [
    "remaining_df = df.loc[~df.index.isin(balanced_df.index)]\n",
    "\n",
    "for index, row in remaining_df.iterrows():\n",
    "    train_data.append({'value': row['invocation'], 'target': 1})\n",
    "    train_data.append({'value': row['cmd'], 'target': 0})"
   ],
   "id": "107a2306cafab8ed",
   "outputs": [],
   "execution_count": 9
  },
  {
   "metadata": {
    "ExecuteTime": {
     "end_time": "2024-12-25T14:57:56.352713Z",
     "start_time": "2024-12-25T14:57:56.339510Z"
    }
   },
   "cell_type": "code",
   "source": [
    "for index, row in balanced_df.iterrows():\n",
    "    if np.random.rand() < 0.6:\n",
    "        test_data.append({'value': row['invocation'], 'target': 1})\n",
    "        test_data.append({'value': row['cmd'], 'target': 0})\n",
    "    else:\n",
    "        if np.random.rand() < 0.1:\n",
    "            test_data.append({'value': row['invocation'], 'target': 1})\n",
    "            train_data.append({'value': row['cmd'], 'target': 0})\n",
    "        else:\n",
    "            train_data.append({'value': row['invocation'], 'target': 1})\n",
    "            test_data.append({'value': row['cmd'], 'target': 0})"
   ],
   "id": "824adb0943b67324",
   "outputs": [],
   "execution_count": 10
  },
  {
   "metadata": {
    "ExecuteTime": {
     "end_time": "2024-12-25T14:57:56.374440Z",
     "start_time": "2024-12-25T14:57:56.372377Z"
    }
   },
   "cell_type": "code",
   "source": "len(test_data)",
   "id": "28fa118475a96d36",
   "outputs": [
    {
     "data": {
      "text/plain": [
       "1313"
      ]
     },
     "execution_count": 11,
     "metadata": {},
     "output_type": "execute_result"
    }
   ],
   "execution_count": 11
  },
  {
   "metadata": {
    "ExecuteTime": {
     "end_time": "2024-12-25T14:57:56.394351Z",
     "start_time": "2024-12-25T14:57:56.392114Z"
    }
   },
   "cell_type": "code",
   "source": "len(train_data)",
   "id": "e5a3e3ed3ba1c23c",
   "outputs": [
    {
     "data": {
      "text/plain": [
       "21043"
      ]
     },
     "execution_count": 12,
     "metadata": {},
     "output_type": "execute_result"
    }
   ],
   "execution_count": 12
  },
  {
   "metadata": {
    "ExecuteTime": {
     "end_time": "2024-12-25T14:57:56.418328Z",
     "start_time": "2024-12-25T14:57:56.409148Z"
    }
   },
   "cell_type": "code",
   "source": [
    "test_data = pd.DataFrame(test_data)\n",
    "train_data = pd.DataFrame(train_data)"
   ],
   "id": "f6ed187141bf7751",
   "outputs": [],
   "execution_count": 13
  },
  {
   "metadata": {
    "ExecuteTime": {
     "end_time": "2024-12-25T14:57:56.428738Z",
     "start_time": "2024-12-25T14:57:56.425806Z"
    }
   },
   "cell_type": "code",
   "source": "synt = pd.read_csv('data/synthetic_data.csv')",
   "id": "e1aa12930ae9d813",
   "outputs": [],
   "execution_count": 14
  },
  {
   "metadata": {
    "ExecuteTime": {
     "end_time": "2024-12-25T14:57:56.438195Z",
     "start_time": "2024-12-25T14:57:56.436129Z"
    }
   },
   "cell_type": "code",
   "source": "len(synt)",
   "id": "ace59a18f68015fe",
   "outputs": [
    {
     "data": {
      "text/plain": [
       "375"
      ]
     },
     "execution_count": 15,
     "metadata": {},
     "output_type": "execute_result"
    }
   ],
   "execution_count": 15
  },
  {
   "metadata": {
    "ExecuteTime": {
     "end_time": "2024-12-25T14:57:56.506880Z",
     "start_time": "2024-12-25T14:57:56.446141Z"
    }
   },
   "cell_type": "code",
   "source": [
    "import os\n",
    "import json\n",
    "import pandas as pd\n",
    "\n",
    "base_dir = \"data/cybersec\"\n",
    "\n",
    "\n",
    "data_list = []\n",
    "\n",
    "for root, dirs, files in os.walk(base_dir):\n",
    "    for file in files:\n",
    "        if file.endswith('.json'):\n",
    "            file_path = os.path.join(root, file)\n",
    "            try:\n",
    "                with open(file_path, 'r') as f:\n",
    "                    for line in f:\n",
    "                        if line.strip():\n",
    "                            json_data = json.loads(line.strip())\n",
    "                            json_data['file_path'] = file_path\n",
    "                            data_list.append(json_data)\n",
    "            except Exception as e:\n",
    "                print(f\"Error reading {file_path}: {e}\")\n",
    "\n",
    "combined_df = pd.DataFrame(data_list)"
   ],
   "id": "50a9fadc6ab67e69",
   "outputs": [],
   "execution_count": 16
  },
  {
   "metadata": {
    "ExecuteTime": {
     "end_time": "2024-12-25T14:57:56.520389Z",
     "start_time": "2024-12-25T14:57:56.515347Z"
    }
   },
   "cell_type": "code",
   "source": "combined_df= combined_df[combined_df['cmd_type']=='bash-command']",
   "id": "d584eba74d777b88",
   "outputs": [],
   "execution_count": 17
  },
  {
   "metadata": {
    "ExecuteTime": {
     "end_time": "2024-12-25T14:57:56.532665Z",
     "start_time": "2024-12-25T14:57:56.528946Z"
    }
   },
   "cell_type": "code",
   "source": "len(combined_df['cmd'].unique())",
   "id": "993cdbda4ac811b7",
   "outputs": [
    {
     "data": {
      "text/plain": [
       "3820"
      ]
     },
     "execution_count": 18,
     "metadata": {},
     "output_type": "execute_result"
    }
   ],
   "execution_count": 18
  },
  {
   "metadata": {
    "ExecuteTime": {
     "end_time": "2024-12-25T14:57:56.544955Z",
     "start_time": "2024-12-25T14:57:56.542187Z"
    }
   },
   "cell_type": "code",
   "source": "new_df = pd.DataFrame(combined_df['cmd'].unique())",
   "id": "1fc25983d655de0a",
   "outputs": [],
   "execution_count": 19
  },
  {
   "metadata": {
    "ExecuteTime": {
     "end_time": "2024-12-25T14:57:56.582621Z",
     "start_time": "2024-12-25T14:57:56.580822Z"
    }
   },
   "cell_type": "code",
   "source": "new_df['value'] = new_df[0]",
   "id": "22cdf1ba3ada5fb3",
   "outputs": [],
   "execution_count": 21
  },
  {
   "metadata": {
    "ExecuteTime": {
     "end_time": "2024-12-25T14:57:56.605831Z",
     "start_time": "2024-12-25T14:57:56.604019Z"
    }
   },
   "cell_type": "code",
   "source": "new_df['target'] = 0",
   "id": "715f33633af9a0f",
   "outputs": [],
   "execution_count": 22
  },
  {
   "metadata": {
    "ExecuteTime": {
     "end_time": "2024-12-25T14:57:56.685246Z",
     "start_time": "2024-12-25T14:57:56.682414Z"
    }
   },
   "cell_type": "code",
   "source": "result = pd.concat([test_data, synt, new_df])",
   "id": "748ff3cf7837d894",
   "outputs": [],
   "execution_count": 25
  },
  {
   "metadata": {
    "ExecuteTime": {
     "end_time": "2024-12-25T14:57:56.842266Z",
     "start_time": "2024-12-25T14:57:56.840185Z"
    }
   },
   "cell_type": "code",
   "source": "result = result[['value', 'target']]",
   "id": "33394139ed4e0a41",
   "outputs": [],
   "execution_count": 29
  },
  {
   "metadata": {
    "ExecuteTime": {
     "end_time": "2024-12-25T14:58:13.995458Z",
     "start_time": "2024-12-25T14:58:13.886061Z"
    }
   },
   "cell_type": "code",
   "source": [
    "def modify_case(row):\n",
    "    value = str(row['value']).strip()\n",
    "    if row['target'] == 1 and value:\n",
    "        if np.random.rand() < 0.6:\n",
    "            return value[0].lower() + value[1:]\n",
    "        else:\n",
    "            return value[0].upper() + value[1:]\n",
    "    return value\n",
    "\n",
    "result = result.dropna(subset=['value'])\n",
    "result = result[result['value'].str.strip() != \"\"]\n",
    "\n",
    "train_df = train_data.dropna(subset=['value'])\n",
    "train_df = train_df[train_df['value'].str.strip() != \"\"]\n",
    "\n",
    "result['value'] = result.apply(modify_case, axis=1)\n",
    "\n",
    "train_df['value'] = train_df.apply(modify_case, axis=1)"
   ],
   "id": "3244720fcb4d01f",
   "outputs": [
    {
     "name": "stdout",
     "output_type": "stream",
     "text": [
      "5508\n",
      "5133\n",
      "5133\n"
     ]
    }
   ],
   "execution_count": 32
  },
  {
   "metadata": {
    "ExecuteTime": {
     "end_time": "2024-12-25T15:01:40.771602Z",
     "start_time": "2024-12-25T15:01:40.749242Z"
    }
   },
   "cell_type": "code",
   "source": [
    "target_1_count = train_df[train_df['target'] == 1].shape[0]\n",
    "target_0_count = train_df[train_df['target'] == 0].shape[0]\n",
    "\n",
    "desired_target_1_count = target_0_count // 9  # 1:9 ratio\n",
    "\n",
    "if target_1_count > desired_target_1_count:\n",
    "    target_1_rows = train_df[train_df['target'] == 1].sample(n=desired_target_1_count, random_state=42)\n",
    "else:\n",
    "    target_0_rows = train_df[train_df['target'] == 0]\n",
    "\n",
    "target_0_rows = train_df[train_df['target'] == 0]\n",
    "\n",
    "balanced_train_df = pd.concat([target_0_rows, target_1_rows], ignore_index=True)\n",
    "balanced_train_df = balanced_train_df.sample(frac=1, random_state=42).reset_index(drop=True)\n",
    "\n",
    "print(balanced_train_df['target'].value_counts())"
   ],
   "id": "619045343d32b34a",
   "outputs": [
    {
     "name": "stdout",
     "output_type": "stream",
     "text": [
      "target\n",
      "0    10376\n",
      "1     1152\n",
      "Name: count, dtype: int64\n"
     ]
    }
   ],
   "execution_count": 37
  },
  {
   "metadata": {
    "ExecuteTime": {
     "end_time": "2024-12-25T15:02:14.928330Z",
     "start_time": "2024-12-25T15:02:14.896565Z"
    }
   },
   "cell_type": "code",
   "source": "balanced_train_df.to_csv('data/train.csv', index=False)",
   "id": "24aaa2d10bf830c4",
   "outputs": [],
   "execution_count": 39
  },
  {
   "metadata": {
    "ExecuteTime": {
     "end_time": "2024-12-25T15:02:20.047087Z",
     "start_time": "2024-12-25T15:02:20.032943Z"
    }
   },
   "cell_type": "code",
   "source": "result.to_csv('data/test.csv', index=False)",
   "id": "bfa63f7adac5a949",
   "outputs": [],
   "execution_count": 40
  }
 ],
 "metadata": {
  "kernelspec": {
   "display_name": "Python 3",
   "language": "python",
   "name": "python3"
  },
  "language_info": {
   "codemirror_mode": {
    "name": "ipython",
    "version": 2
   },
   "file_extension": ".py",
   "mimetype": "text/x-python",
   "name": "python",
   "nbconvert_exporter": "python",
   "pygments_lexer": "ipython2",
   "version": "2.7.6"
  }
 },
 "nbformat": 4,
 "nbformat_minor": 5
}
